{
 "cells": [
  {
   "cell_type": "code",
   "execution_count": 1,
   "id": "a9ec2049-3795-48fe-99a8-15f535328d70",
   "metadata": {
    "execution": {
     "iopub.execute_input": "2025-07-21T17:49:45.002320Z",
     "iopub.status.busy": "2025-07-21T17:49:45.002129Z",
     "iopub.status.idle": "2025-07-21T17:49:50.054990Z",
     "shell.execute_reply": "2025-07-21T17:49:50.054310Z",
     "shell.execute_reply.started": "2025-07-21T17:49:45.002297Z"
    },
    "scrolled": true
   },
   "outputs": [
    {
     "name": "stdout",
     "output_type": "stream",
     "text": [
      "Defaulting to user installation because normal site-packages is not writeable\n",
      "Looking in links: /usr/share/pip-wheels\n",
      "Requirement already satisfied: streamlit in ./.local/lib/python3.11/site-packages (1.47.0)\n",
      "Requirement already satisfied: altair<6,>=4.0 in /opt/conda/envs/anaconda-panel-2023.05-py310/lib/python3.11/site-packages (from streamlit) (5.0.1)\n",
      "Requirement already satisfied: blinker<2,>=1.5.0 in ./.local/lib/python3.11/site-packages (from streamlit) (1.9.0)\n",
      "Requirement already satisfied: cachetools<7,>=4.0 in ./.local/lib/python3.11/site-packages (from streamlit) (6.1.0)\n",
      "Requirement already satisfied: click<9,>=7.0 in /opt/conda/envs/anaconda-panel-2023.05-py310/lib/python3.11/site-packages (from streamlit) (8.0.4)\n",
      "Requirement already satisfied: numpy<3,>=1.23 in ./.local/lib/python3.11/site-packages (from streamlit) (1.24.4)\n",
      "Requirement already satisfied: packaging<26,>=20 in /opt/conda/envs/anaconda-panel-2023.05-py310/lib/python3.11/site-packages (from streamlit) (23.1)\n",
      "Requirement already satisfied: pandas<3,>=1.4.0 in ./.local/lib/python3.11/site-packages (from streamlit) (1.5.3)\n",
      "Requirement already satisfied: pillow<12,>=7.1.0 in /opt/conda/envs/anaconda-panel-2023.05-py310/lib/python3.11/site-packages (from streamlit) (9.4.0)\n",
      "Requirement already satisfied: protobuf<7,>=3.20 in ./.local/lib/python3.11/site-packages (from streamlit) (6.31.1)\n",
      "Requirement already satisfied: pyarrow>=7.0 in /opt/conda/envs/anaconda-panel-2023.05-py310/lib/python3.11/site-packages (from streamlit) (11.0.0)\n",
      "Requirement already satisfied: requests<3,>=2.27 in /opt/conda/envs/anaconda-panel-2023.05-py310/lib/python3.11/site-packages (from streamlit) (2.31.0)\n",
      "Requirement already satisfied: tenacity<10,>=8.1.0 in /opt/conda/envs/anaconda-panel-2023.05-py310/lib/python3.11/site-packages (from streamlit) (8.2.2)\n",
      "Requirement already satisfied: toml<2,>=0.10.1 in /opt/conda/envs/anaconda-panel-2023.05-py310/lib/python3.11/site-packages (from streamlit) (0.10.2)\n",
      "Requirement already satisfied: typing-extensions<5,>=4.4.0 in ./.local/lib/python3.11/site-packages (from streamlit) (4.13.2)\n",
      "Requirement already satisfied: watchdog<7,>=2.1.5 in /opt/conda/envs/anaconda-panel-2023.05-py310/lib/python3.11/site-packages (from streamlit) (2.1.6)\n",
      "Requirement already satisfied: gitpython!=3.1.19,<4,>=3.0.7 in ./.local/lib/python3.11/site-packages (from streamlit) (3.1.44)\n",
      "Requirement already satisfied: pydeck<1,>=0.8.0b4 in ./.local/lib/python3.11/site-packages (from streamlit) (0.9.1)\n",
      "Requirement already satisfied: tornado!=6.5.0,<7,>=6.0.3 in /opt/conda/envs/anaconda-panel-2023.05-py310/lib/python3.11/site-packages (from streamlit) (6.3.2)\n",
      "Requirement already satisfied: jinja2 in /opt/conda/envs/anaconda-panel-2023.05-py310/lib/python3.11/site-packages (from altair<6,>=4.0->streamlit) (3.1.2)\n",
      "Requirement already satisfied: jsonschema>=3.0 in /opt/conda/envs/anaconda-panel-2023.05-py310/lib/python3.11/site-packages (from altair<6,>=4.0->streamlit) (4.17.3)\n",
      "Requirement already satisfied: toolz in /opt/conda/envs/anaconda-panel-2023.05-py310/lib/python3.11/site-packages (from altair<6,>=4.0->streamlit) (0.12.0)\n",
      "Requirement already satisfied: gitdb<5,>=4.0.1 in ./.local/lib/python3.11/site-packages (from gitpython!=3.1.19,<4,>=3.0.7->streamlit) (4.0.12)\n",
      "Requirement already satisfied: python-dateutil>=2.8.1 in /opt/conda/envs/anaconda-panel-2023.05-py310/lib/python3.11/site-packages (from pandas<3,>=1.4.0->streamlit) (2.8.2)\n",
      "Requirement already satisfied: pytz>=2020.1 in /opt/conda/envs/anaconda-panel-2023.05-py310/lib/python3.11/site-packages (from pandas<3,>=1.4.0->streamlit) (2023.3.post1)\n",
      "Requirement already satisfied: charset-normalizer<4,>=2 in /opt/conda/envs/anaconda-panel-2023.05-py310/lib/python3.11/site-packages (from requests<3,>=2.27->streamlit) (2.0.4)\n",
      "Requirement already satisfied: idna<4,>=2.5 in /opt/conda/envs/anaconda-panel-2023.05-py310/lib/python3.11/site-packages (from requests<3,>=2.27->streamlit) (3.4)\n",
      "Requirement already satisfied: urllib3<3,>=1.21.1 in /opt/conda/envs/anaconda-panel-2023.05-py310/lib/python3.11/site-packages (from requests<3,>=2.27->streamlit) (1.26.16)\n",
      "Requirement already satisfied: certifi>=2017.4.17 in /opt/conda/envs/anaconda-panel-2023.05-py310/lib/python3.11/site-packages (from requests<3,>=2.27->streamlit) (2023.7.22)\n",
      "Requirement already satisfied: smmap<6,>=3.0.1 in ./.local/lib/python3.11/site-packages (from gitdb<5,>=4.0.1->gitpython!=3.1.19,<4,>=3.0.7->streamlit) (5.0.2)\n",
      "Requirement already satisfied: MarkupSafe>=2.0 in /opt/conda/envs/anaconda-panel-2023.05-py310/lib/python3.11/site-packages (from jinja2->altair<6,>=4.0->streamlit) (2.1.1)\n",
      "Requirement already satisfied: attrs>=17.4.0 in /opt/conda/envs/anaconda-panel-2023.05-py310/lib/python3.11/site-packages (from jsonschema>=3.0->altair<6,>=4.0->streamlit) (22.1.0)\n",
      "Requirement already satisfied: pyrsistent!=0.17.0,!=0.17.1,!=0.17.2,>=0.14.0 in /opt/conda/envs/anaconda-panel-2023.05-py310/lib/python3.11/site-packages (from jsonschema>=3.0->altair<6,>=4.0->streamlit) (0.18.0)\n",
      "Requirement already satisfied: six>=1.5 in /opt/conda/envs/anaconda-panel-2023.05-py310/lib/python3.11/site-packages (from python-dateutil>=2.8.1->pandas<3,>=1.4.0->streamlit) (1.16.0)\n"
     ]
    }
   ],
   "source": [
    "!pip install streamlit"
   ]
  },
  {
   "cell_type": "code",
   "execution_count": 1,
   "id": "c6586f5e-9194-4bf3-be44-b66b810c6255",
   "metadata": {
    "execution": {
     "iopub.execute_input": "2025-07-21T17:49:58.114900Z",
     "iopub.status.busy": "2025-07-21T17:49:58.114254Z",
     "iopub.status.idle": "2025-07-21T17:49:58.119176Z",
     "shell.execute_reply": "2025-07-21T17:49:58.118516Z",
     "shell.execute_reply.started": "2025-07-21T17:49:58.114869Z"
    }
   },
   "outputs": [
    {
     "name": "stdout",
     "output_type": "stream",
     "text": [
      "/home/e2c9053a-079d-4d40-8e7f-5fb9d860d7c4\n",
      "['submission_SegmentCDE.csv', 'submission_SegmentAB.csv', '.ipynb_checkpoints', '.virtualenvs', 'Catboost_fin3.ipynb', '.vimrc', 'Catboost_fin2.ipynb', '.bashrc', 'Untitled.ipynb', '.jupyter', 'base_clean_train.csv', '.local', 'anaconda_projects', '.profile', '.pythonstartup.py', '수정1트.ipynb', 'tmp_base_clean_test.parquet', 'README.ipynb', '.gitconfig', 'saved_models', 'Catboost_final_ed.ipynb', '.npm', 'base_clean_test.csv', 'Catboost_fin.ipynb', '.ipython', '.config', '.anaconda', 'hyperclova_api.py', '.cache', 'finance_recommender_app_updated.py']\n"
     ]
    }
   ],
   "source": [
    "import os\n",
    "print(os.getcwd())       # 현재 디렉터리 경로\n",
    "print(os.listdir())      # 현재 디렉터리 파일 목록\n"
   ]
  },
  {
   "cell_type": "code",
   "execution_count": 3,
   "id": "33fdbd02-867c-48c0-88ef-88ff7fa5664c",
   "metadata": {
    "execution": {
     "iopub.execute_input": "2025-07-21T17:20:42.203340Z",
     "iopub.status.busy": "2025-07-21T17:20:42.203116Z",
     "iopub.status.idle": "2025-07-21T17:20:42.236521Z",
     "shell.execute_reply": "2025-07-21T17:20:42.235993Z",
     "shell.execute_reply.started": "2025-07-21T17:20:42.203322Z"
    }
   },
   "outputs": [
    {
     "name": "stdout",
     "output_type": "stream",
     "text": [
      "Overwriting hyperclova_api.py\n"
     ]
    }
   ],
   "source": [
    "%%writefile hyperclova_api.py\n",
    "import os\n",
    "from functools import lru_cache\n",
    "\n",
    "API_KEY = os.getenv(\"HCX_API_KEY\")\n",
    "BASE_URL = \"https://api.hyperclova.ai/v1\"\n",
    "\n",
    "def _get_headers():\n",
    "    if not API_KEY:\n",
    "        raise ValueError(\"HCX_API_KEY 환경변수를 설정해주세요.\")\n",
    "    return {\"Authorization\":f\"Bearer {API_KEY}\", \"Content-Type\":\"application/json\"}\n",
    "\n",
    "@lru_cache(maxsize=128)\n",
    "def classify_content(text: str) -> dict:\n",
    "    return {\"risk\":\"중립\",\"themes\":[],\"period\":\"장기\"}\n",
    "\n",
    "@lru_cache(maxsize=128)\n",
    "def summarize_text(text: str, max_length: int = 200) -> str:\n",
    "    return text[:max_length] + \"...\"\n",
    "\n",
    "def chat_completion(prompt: str) -> str:\n",
    "    return f\"[HyperCLOVA 응답 예시] {prompt}\"\n"
   ]
  },
  {
   "cell_type": "code",
   "execution_count": 4,
   "id": "1b85ae74-388d-4ac4-8d04-71cc9b6293bd",
   "metadata": {
    "execution": {
     "iopub.execute_input": "2025-07-21T17:20:42.237602Z",
     "iopub.status.busy": "2025-07-21T17:20:42.237336Z",
     "iopub.status.idle": "2025-07-21T17:20:42.265142Z",
     "shell.execute_reply": "2025-07-21T17:20:42.264669Z",
     "shell.execute_reply.started": "2025-07-21T17:20:42.237582Z"
    }
   },
   "outputs": [
    {
     "name": "stdout",
     "output_type": "stream",
     "text": [
      "Overwriting finance_recommender_app_updated.py\n"
     ]
    }
   ],
   "source": [
    "%%writefile finance_recommender_app_updated.py\n",
    "# -*- coding: utf-8 -*-\n",
    "import requests, json, os, hashlib\n",
    "from datetime import datetime\n",
    "from collections import Counter\n",
    "import streamlit as st\n",
    "from hyperclova_api import classify_content, summarize_text, chat_completion\n",
    "\n",
    "# ----------------------------\n",
    "# 설정 및 상수\n",
    "# ----------------------------\n",
    "CLIENT_ID = \"r139rV3OFmXfYuZj2geF\"\n",
    "CLIENT_SECRET = \"tcwu4YHfNT\"\n",
    "NEWS_DB_PATH = \"news_data.json\"\n",
    "PROFILE_DB_PATH = \"profile_db.json\"\n",
    "HYPERCLOVA_CACHE = {}\n",
    "\n",
    "# ----------------------------\n",
    "# 유틸 함수\n",
    "# ----------------------------\n",
    "def today_str():\n",
    "    return datetime.now().strftime(\"%Y-%m-%d\")\n",
    "\n",
    "def make_hash(title, link):\n",
    "    return hashlib.md5((title + link).encode(\"utf-8\")).hexdigest()\n",
    "\n",
    "def load_json(filepath):\n",
    "    if os.path.exists(filepath):\n",
    "        with open(filepath, \"r\", encoding=\"utf-8\") as f:\n",
    "            return json.load(f)\n",
    "    return {}\n",
    "\n",
    "def save_json(obj, filepath):\n",
    "    with open(filepath, \"w\", encoding=\"utf-8\") as f:\n",
    "        json.dump(obj, f, ensure_ascii=False, indent=2)\n",
    "\n",
    "# ----------------------------\n",
    "# 뉴스 크롤링 & 저장\n",
    "# ----------------------------\n",
    "def get_news(query, display=20, start=1):\n",
    "    url = \"https://openapi.naver.com/v1/search/news.json\"\n",
    "    headers = {\n",
    "        \"X-Naver-Client-Id\": CLIENT_ID,\n",
    "        \"X-Naver-Client-Secret\": CLIENT_SECRET\n",
    "    }\n",
    "    params = {\"query\": query, \"display\": display, \"start\": start, \"sort\": \"date\"}\n",
    "    try:\n",
    "        r = requests.get(url, headers=headers, params=params, timeout=5)\n",
    "        r.raise_for_status()\n",
    "        return r.json().get(\"items\", [])\n",
    "    except Exception as e:\n",
    "        st.error(f\"뉴스 API 오류: {e}\")\n",
    "        return []\n",
    "\n",
    "def crawl_today_news(queries):\n",
    "    news_db = load_json(NEWS_DB_PATH)\n",
    "    today = today_str()\n",
    "    news_db.setdefault(today, [])\n",
    "    existing = {make_hash(n['title'], n['link']) for n in news_db[today]}\n",
    "    for q in queries:\n",
    "        for item in get_news(q):\n",
    "            h = make_hash(item['title'], item['link'])\n",
    "            if h not in existing:\n",
    "                news_db[today].append({\n",
    "                    \"title\": item[\"title\"],\n",
    "                    \"description\": item[\"description\"],\n",
    "                    \"pubDate\": item[\"pubDate\"],\n",
    "                    \"link\": item[\"link\"],\n",
    "                    \"query\": q\n",
    "                })\n",
    "                existing.add(h)\n",
    "    save_json(news_db, NEWS_DB_PATH)\n",
    "\n",
    "# ----------------------------\n",
    "# 투자자 프로필\n",
    "# ----------------------------\n",
    "def generate_investor_profile(resp):\n",
    "    risk_map = {\"매우 보수적\":0.1,\"보수적\":0.3,\"중립\":0.5,\"공격적\":0.7,\"매우 공격적\":0.9}\n",
    "    horizon_map = {\"단기\":1,\"중기\":3,\"장기\":5}\n",
    "    return {\n",
    "        \"risk_score\": risk_map[resp[\"risk_level\"]],\n",
    "        \"horizon_years\": horizon_map[resp[\"horizon\"]],\n",
    "        \"interest_tags\": resp[\"interests\"]\n",
    "    }\n",
    "\n",
    "def update_risk_profile(profile, period=1):\n",
    "    alpha = min(0.5, 0.1 * period)\n",
    "    behavior_score = profile[\"risk_score\"]\n",
    "    new_score = (1-alpha)*profile[\"risk_score\"] + alpha*behavior_score\n",
    "    profile[\"risk_score\"] = round(new_score, 2)\n",
    "    return profile\n",
    "\n",
    "# ----------------------------\n",
    "# 상품 DB (확장)\n",
    "# ----------------------------\n",
    "PRODUCTS_DB = [\n",
    "    {\"name\":\"EMP 분산 투자 펀드\", \"risk\":0.5,\n",
    "     \"themes\":[\"자산배분\",\"ETF\",\"초분산\"], \"description\":\"여러 ETF에 분산투자하여 리스크 관리\"},\n",
    "    {\"name\":\"TDF 2045 시리즈\", \"risk\":0.3,\n",
    "     \"themes\":[\"장기\",\"채권\",\"리밸런싱\"], \"description\":\"은퇴 시점별 자동 리밸런싱 펀드\"},\n",
    "    {\"name\":\"글로벌 리츠 펀드\", \"risk\":0.4,\n",
    "     \"themes\":[\"리츠\",\"부동산\",\"배당\"], \"description\":\"글로벌 상업용 부동산 투자\"},\n",
    "    {\"name\":\"고정쿠폰 ELS\", \"risk\":0.8,\n",
    "     \"themes\":[\"구조화상품\",\"파생\",\"쿠폰\"], \"description\":\"조기상환형 고정쿠폰 ELS\"},\n",
    "    {\"name\":\"Pre-IPO 스타트업 펀드\", \"risk\":0.9,\n",
    "     \"themes\":[\"프리IPO\",\"스타트업\",\"고수익\"], \"description\":\"미상장 우량기업 초기 투자\"},\n",
    "    {\"name\":\"Global Infrastructure ETF\", \"risk\":0.6,\n",
    "     \"themes\":[\"인프라\",\"데이터센터\",\"도로\"], \"description\":\"세계 인프라 자산 분산\"},\n",
    "    {\"name\":\"Global Timber ETF\", \"risk\":0.6,\n",
    "     \"themes\":[\"임업\",\"ESG\",\"탄소저감\"], \"description\":\"임업·펄프 기업 투자\"},\n",
    "    {\"name\":\"AI 스마트베타 ETF\", \"risk\":0.6,\n",
    "     \"themes\":[\"AI\",\"스마트베타\",\"저변동\"], \"description\":\"AI 알고리즘 기반 포트폴리오\"}\n",
    "]\n",
    "\n",
    "def recommend_products(profile, market_themes):\n",
    "    scored = []\n",
    "    for prod in PRODUCTS_DB:\n",
    "        gap = abs(profile[\"risk_score\"] - prod[\"risk\"])\n",
    "        rs = 1 - gap\n",
    "        ts = len(set(profile[\"interest_tags\"] + market_themes) & set(prod[\"themes\"])) / (len(prod[\"themes\"])+1e-5)\n",
    "        score = 0.6*rs + 0.4*ts\n",
    "        scored.append((score, prod))\n",
    "    scored.sort(key=lambda x: x[0], reverse=True)\n",
    "    return [p for _,p in scored[:3]]\n",
    "\n",
    "# ----------------------------\n",
    "# Streamlit UI\n",
    "# ----------------------------\n",
    "st.set_page_config(page_title=\"HyperCLOVA 금융추천\", layout=\"wide\")\n",
    "st.title(\"HyperCLOVA X 기반 맞춤형 금융 상품 추천\")\n",
    "\n",
    "with st.sidebar:\n",
    "    st.header(\"투자 성향 설문\")\n",
    "    age = st.slider(\"연령대\",20,60,30)\n",
    "    risk_level = st.selectbox(\"위험 성향\",[\"매우 보수적\",\"보수적\",\"중립\",\"공격적\",\"매우 공격적\"])\n",
    "    horizon = st.selectbox(\"투자 기간\",[\"단기\",\"중기\",\"장기\"])\n",
    "    interests = st.multiselect(\"관심 분야\",[\"인프라\",\"ETF\",\"TDF\",\"EMP\",\"스마트베타\",\"부동산\",\"프리IPO\",\"구조화\"])\n",
    "    user_keywords = st.multiselect(\"뉴스 키워드 선택\",[\"AI\",\"금리\",\"인플레이션\",\"인프라\",\"리츠\",\"Pre-IPO\",\"구조화상품\",\"TDF\",\"EMP\"])\n",
    "    if st.button(\"프로필 생성 & 추천\"):\n",
    "        base_profile = generate_investor_profile({\n",
    "            \"risk_level\":risk_level,\"horizon\":horizon,\"interests\":interests\n",
    "        })\n",
    "        profile = update_risk_profile(base_profile, period=1)\n",
    "        st.session_state[\"profile\"] = profile\n",
    "        st.session_state[\"user_keywords\"] = user_keywords\n",
    "        st.success(\"프로필 생성 완료!\")\n",
    "\n",
    "if \"profile\" in st.session_state:\n",
    "    profile = st.session_state[\"profile\"]\n",
    "    keys = st.session_state.get(\"user_keywords\") or [\"금리\",\"ETF\",\"구조화상품\"]\n",
    "    crawl_today_news(keys)\n",
    "    news_db = load_json(NEWS_DB_PATH)\n",
    "    today = max(news_db.keys())\n",
    "    news_items = news_db[today]\n",
    "\n",
    "    st.subheader(\"뉴스 요약 및 태그\")\n",
    "    all_tags = []\n",
    "    for itm in news_items[:10]:\n",
    "        text = itm[\"title\"] + \" \" + itm[\"description\"]\n",
    "        summary = summarize_text(text)\n",
    "        tags = classify_content(summary).get(\"themes\",[])\n",
    "        itm[\"summary\"], itm[\"tags\"] = summary, tags\n",
    "        all_tags.extend(tags)\n",
    "        with st.expander(itm[\"title\"]):\n",
    "            st.write(summary)\n",
    "            st.caption(f\"태그: {', '.join(tags)}\")\n",
    "\n",
    "    market_themes = list(set(st.session_state[\"user_keywords\"] + all_tags))\n",
    "    recs = recommend_products(profile, market_themes)\n",
    "\n",
    "    st.subheader(\"오늘의 추천 금융 상품\")\n",
    "    for p in recs:\n",
    "        st.markdown(f\"### {p['name']} （위험도 {p['risk']}）\")\n",
    "        st.markdown(f\"- 설명: {p['description']}\")\n",
    "        st.markdown(f\"- 테마: {', '.join(p['themes'])}\")\n",
    "\n",
    "    st.subheader(\"챗봇 질의응답\")\n",
    "    user_q = st.text_input(\"궁금한 내용을 입력하세요\")\n",
    "    if user_q:\n",
    "        prompt = (\n",
    "            f\"사용자 프로필: {profile}\\n\"\n",
    "            f\"추천 상품: {[r['name'] for r in recs]}\\n\"\n",
    "            f\"뉴스 키워드: {st.session_state['user_keywords']}\\n\"\n",
    "            f\"질문: {user_q}\\n\"\n",
    "            \"친근한 어투로 답변해주세요.\"\n",
    "        )\n",
    "        try:\n",
    "            answer = chat_completion(prompt)\n",
    "            st.info(answer)\n",
    "        except Exception as e:\n",
    "            st.error(f\"Chat API 오류: {e}\")\n"
   ]
  },
  {
   "cell_type": "code",
   "execution_count": null,
   "id": "98bdaba7-1163-4483-bd2f-b5af0a6a4bc8",
   "metadata": {
    "execution": {
     "iopub.execute_input": "2025-07-21T17:50:06.312909Z",
     "iopub.status.busy": "2025-07-21T17:50:06.312042Z"
    }
   },
   "outputs": [
    {
     "name": "stdout",
     "output_type": "stream",
     "text": [
      "\n",
      "Collecting usage statistics. To deactivate, set browser.gatherUsageStats to false.\n",
      "\u001b[0m\n",
      "\u001b[0m\n",
      "\u001b[34m\u001b[1m  You can now view your Streamlit app in your browser.\u001b[0m\n",
      "\u001b[0m\n",
      "\u001b[34m  Local URL: \u001b[0m\u001b[1mhttp://localhost:8501\u001b[0m\n",
      "\u001b[34m  Network URL: \u001b[0m\u001b[1mhttp://10.0.0.192:8501\u001b[0m\n",
      "\u001b[34m  External URL: \u001b[0m\u001b[1mhttp://10.0.0.192:8501\u001b[0m\n",
      "\u001b[0m\n"
     ]
    }
   ],
   "source": [
    "!python -m streamlit run finance_recommender_app_updated.py"
   ]
  },
  {
   "cell_type": "code",
   "execution_count": null,
   "id": "b948efde-28cd-4b0e-b092-ed8038383e93",
   "metadata": {},
   "outputs": [],
   "source": [
    "!pip install jupyter-server-proxy"
   ]
  },
  {
   "cell_type": "code",
   "execution_count": null,
   "id": "407e41e3-8c87-42bb-8540-9ddd0b1872c1",
   "metadata": {},
   "outputs": [],
   "source": [
    "!streamlit --version"
   ]
  },
  {
   "cell_type": "code",
   "execution_count": null,
   "id": "32db0afe-d1b1-4105-8791-50fd5588297c",
   "metadata": {},
   "outputs": [],
   "source": [
    "!streamlit run finance_recommender_app_updated.py"
   ]
  }
 ],
 "metadata": {
  "kernelspec": {
   "display_name": "anaconda-panel-2023.05-py310",
   "language": "python",
   "name": "conda-env-anaconda-panel-2023.05-py310-py"
  },
  "language_info": {
   "codemirror_mode": {
    "name": "ipython",
    "version": 3
   },
   "file_extension": ".py",
   "mimetype": "text/x-python",
   "name": "python",
   "nbconvert_exporter": "python",
   "pygments_lexer": "ipython3",
   "version": "3.11.5"
  }
 },
 "nbformat": 4,
 "nbformat_minor": 5
}
